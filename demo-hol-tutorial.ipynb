{
 "cells": [
  {
   "cell_type": "markdown",
   "id": "acdfcaf9-d8ef-44c1-990e-249d629b6ee6",
   "metadata": {},
   "source": [
    "#### Randomly sample 50 customers to keep hands-on lab dataset simple and small"
   ]
  },
  {
   "cell_type": "code",
   "execution_count": 31,
   "id": "8055dee1-4243-4a14-820d-d40edab99b75",
   "metadata": {
    "tags": []
   },
   "outputs": [
    {
     "data": {
      "application/vnd.jupyter.widget-view+json": {
       "model_id": "63da29f0c6ff47dabf24ea6a26503184",
       "version_major": 2,
       "version_minor": 0
      },
      "text/plain": [
       "Tab(children=(Output(layout=Layout(max_height='600px', max_width='940px', overflow='scroll')), Output(layout=L…"
      ]
     },
     "metadata": {},
     "output_type": "display_data"
    }
   ],
   "source": [
    "%%oc\n",
    "\n",
    "MATCH (c:customer)\n",
    "WITH c, rand() AS randomValue\n",
    "ORDER BY randomValue\n",
    "LIMIT 50\n",
    "WITH COLLECT(c.customer_id) AS sample_customer_ids\n",
    "RETURN sample_customer_ids"
   ]
  },
  {
   "cell_type": "markdown",
   "id": "dc74cac1-dd59-47a9-81f9-4c43ab436d99",
   "metadata": {
    "tags": []
   },
   "source": [
    "#### Place the randomly sampled customer ids into graph nodes labelled as demo_set_customer"
   ]
  },
  {
   "cell_type": "code",
   "execution_count": 7,
   "id": "fdb8c89c-d055-4dc8-b4cf-daadbf0afe4b",
   "metadata": {
    "tags": []
   },
   "outputs": [
    {
     "data": {
      "application/vnd.jupyter.widget-view+json": {
       "model_id": "6ec0bede1a5c4f83acd9b47e8a1bb9aa",
       "version_major": 2,
       "version_minor": 0
      },
      "text/plain": [
       "Tab(children=(Output(layout=Layout(max_height='600px', max_width='940px', overflow='scroll')), Force(network=<…"
      ]
     },
     "metadata": {},
     "output_type": "display_data"
    }
   ],
   "source": [
    "%%oc\n",
    "\n",
    "UNWIND [\n",
    "\"018d3918d60c2e821b654b8eb4cfde55\",\n",
    "\"2ad313a8287a197d9b303c380a6981db\",\n",
    "\"46efeb419cd0b58214d62fb6f13623f7\",\n",
    "\"40e2d996e2e7b68e453e264a377ba7f8\",\n",
    "\"0197368f9bed3b6ac07506404f78a155\",\n",
    "\"32b1d8089a0d72d4c54f9617d432ddbd\",\n",
    "\"8153bf38caa53372d335a611651d7ae1\",\n",
    "\"bf16ebb1ed47bce228a5b9f57fd4ff82\",\n",
    "\"c6afce1779e2ee8b819a6130d120a48e\",\n",
    "\"de74037ebc271b8781a9b7d703924ac3\",\n",
    "\"24cf4347382b8e190a512b2de912f89c\",\n",
    "\"2069f7dac27ea08a26fbdcdb18ae6142\",\n",
    "\"3516087073944b772c2f8b3d0f93a31b\",\n",
    "\"ff423802c40cadf7c338845c137fe304\",\n",
    "\"4058d823a6156dd8f9a068750310bac5\",\n",
    "\"b2ce968dfdaf1da5b510bc7f310f8dd9\",\n",
    "\"1392fdcad98720de6dcb4296794f204b\",\n",
    "\"5b6e97fea8528cf0060d86dbd82f9c4a\",\n",
    "\"df2554dfedbe850dff2ae6c179fb21b2\",\n",
    "\"2db3e03b1db3a836ed63120f3ce8e362\",\n",
    "\"1a5967d84c2fb8d6c22c6eff14643058\",\n",
    "\"bdcc20055a51ea3a85d7b9087f0a53ef\",\n",
    "\"9c338ea8093192e203bc16add78c123c\",\n",
    "\"7099bc9e000fed5fe3cace34788e7714\",\n",
    "\"477ba7008fa296dafcedb37b8bd9b702\",\n",
    "\"ea50d78b023d96a5d45a86d2059348e1\",\n",
    "\"7f59e4e8a71ab50abe6f08288e94480e\",\n",
    "\"4907ba2deda6f3cf96409a181c097ef5\",\n",
    "\"180404f910942ed7c4b5f3e952007686\",\n",
    "\"c4eb325091a03f5a95a8b188eea38273\",\n",
    "\"fd4d78d4ac99d34e9c5d0f66a4540d8f\",\n",
    "\"4ab4db2f93c68d5914dc5eb566dc486c\",\n",
    "\"c9cb57b640e67ea0437a79903e2d2fcb\",\n",
    "\"09ce0754a6b5bcbb8c24d38a6ce54543\",\n",
    "\"1fc6b3289b080e774c436bacf707eeb7\",\n",
    "\"1c0f65288ca605e8f359d5dc62043aed\",\n",
    "\"606aca2f93f152b1d2a86dca7c556b5d\",\n",
    "\"a684554378131af35310b25179278c1c\",\n",
    "\"4fa00e989992cc755f0e1fe2a1b89ee7\",\n",
    "\"dfcde7971c143052874fa2bf1623a3ab\",\n",
    "\"5a4b754ec98d34c53658d10de7b1f620\",\n",
    "\"ab4e4ce50bd32ebffeca76ac9ade7044\",\n",
    "\"55cae1e7c9b2dd0420cf1f95699d77a6\",\n",
    "\"267894d0c4c7fa22ff3b7eefca26a46b\",\n",
    "\"77e188b1127d58981db82ce19e0b601d\",\n",
    "\"69ca21797c2f506e1776ff086dd987f9\",\n",
    "\"33829a5ab9c9fbe1c5a55943b73250ad\",\n",
    "\"8b6fb564288d7bee8cd7234845cfb0e6\",\n",
    "\"4f1f2b13805c2ab2ce70a6cad8001b18\",\n",
    "\"bb465a223e03add1dea0f9b32822f59c\"\n",
    "] AS customer_id\n",
    "MERGE (t:demo_set_customer {customer_id: customer_id})\n",
    "RETURN t\n",
    "\n"
   ]
  },
  {
   "cell_type": "markdown",
   "id": "945fb350-60c3-423c-92bc-1cbf6cd8b952",
   "metadata": {
    "tags": []
   },
   "source": [
    "#### Merge the randomly sampled set of customer into a relationship with order nodes,\n",
    "For example, a customer 'places' an order"
   ]
  },
  {
   "cell_type": "code",
   "execution_count": 16,
   "id": "9abcc213-e3b0-4ec3-afdb-6243f907bde1",
   "metadata": {},
   "outputs": [
    {
     "data": {
      "application/vnd.jupyter.widget-view+json": {
       "model_id": "6b02cb93e2cd4a4392a2150410836a5d",
       "version_major": 2,
       "version_minor": 0
      },
      "text/plain": [
       "Tab(children=(Output(layout=Layout(max_height='600px', max_width='940px', overflow='scroll')), Force(network=<…"
      ]
     },
     "metadata": {},
     "output_type": "display_data"
    }
   ],
   "source": [
    "%%oc\n",
    "\n",
    "MATCH (c:demo_set_customer), (o:order)\n",
    "WHERE c.customer_id = o.customer_id\n",
    "MERGE (c)-[:placed]->(o)\n",
    "RETURN c, o"
   ]
  },
  {
   "cell_type": "markdown",
   "id": "1ffb85ee-4b01-48a6-ad83-560e762a32f9",
   "metadata": {},
   "source": [
    "#### Calculate the mean and standard deviation of all purchases across the orders"
   ]
  },
  {
   "cell_type": "code",
   "execution_count": 9,
   "id": "a06f5b09-4546-4d4e-a1fd-ef31d0204183",
   "metadata": {
    "tags": []
   },
   "outputs": [
    {
     "data": {
      "application/vnd.jupyter.widget-view+json": {
       "model_id": "6343f57ba6034bfb8ef05bb342ca0d81",
       "version_major": 2,
       "version_minor": 0
      },
      "text/plain": [
       "Tab(children=(Output(layout=Layout(max_height='600px', max_width='940px', overflow='scroll')), Force(network=<…"
      ]
     },
     "metadata": {},
     "output_type": "display_data"
    }
   ],
   "source": [
    "%%oc\n",
    "\n",
    "MATCH (o:order)-[r:has_item]->(p:product)\n",
    "WITH o.order_id AS order_id, ROUND(SUM(r.price) * 100) / 100 AS purchase_amount\n",
    "WITH AVG(purchase_amount) AS avg_purchase_amount, STDEVP(purchase_amount) AS stddev_purchase_amount\n",
    "\n",
    "MERGE (l:lifetime_rewards_variable)\n",
    "SET l.average_purchase_amount = avg_purchase_amount, l.stddev_purchase_amount = stddev_purchase_amount\n",
    "RETURN l"
   ]
  },
  {
   "cell_type": "markdown",
   "id": "677e5084-393a-4dac-b198-2008791bbe6c",
   "metadata": {},
   "source": [
    "A customer will be classified into a Member, Silver, Gold, or Diamond rewards tier based upon\n",
    "how many standard deviations they are away from the average total amount of purchases by all customers\n",
    "For example, if a customer has purchased a total more than 2 standard deviations away from the mean, label them\n",
    "as a Diamonds rewards member."
   ]
  },
  {
   "cell_type": "code",
   "execution_count": 28,
   "id": "d663947a-13ed-4e88-8aef-1c801b6530e2",
   "metadata": {
    "tags": []
   },
   "outputs": [
    {
     "data": {
      "application/vnd.jupyter.widget-view+json": {
       "model_id": "d30e3989bfc44b48b52e229926a3c3df",
       "version_major": 2,
       "version_minor": 0
      },
      "text/plain": [
       "Tab(children=(Output(layout=Layout(max_height='600px', max_width='940px', overflow='scroll')), Output(layout=L…"
      ]
     },
     "metadata": {},
     "output_type": "display_data"
    }
   ],
   "source": [
    "%%oc\n",
    "\n",
    "MATCH (c:demo_set_customer)-[:placed]->(o)-[r:has_item]->(p:product), (l:lifetime_rewards_variable)\n",
    "WITH c.customer_id AS customer_id, ROUND(SUM(r.price) * 100) / 100 as purchase_amount, l\n",
    "RETURN\n",
    "customer_id,\n",
    "CASE \n",
    "    WHEN purchase_amount > l.average_purchase_amount + (2 * l.stddev_purchase_amount) THEN \"Diamond\"\n",
    "    WHEN purchase_amount > l.average_purchase_amount + l.stddev_purchase_amount THEN \"Gold\"\n",
    "    WHEN purchase_amount >= l.average_purchase_amount THEN \"Silver\"\n",
    "    ELSE \"Member\"\n",
    "END AS tier\n",
    "\n"
   ]
  }
 ],
 "metadata": {
  "kernelspec": {
   "display_name": "Python 3",
   "language": "python",
   "name": "python3"
  },
  "language_info": {
   "codemirror_mode": {
    "name": "ipython",
    "version": 3
   },
   "file_extension": ".py",
   "mimetype": "text/x-python",
   "name": "python",
   "nbconvert_exporter": "python",
   "pygments_lexer": "ipython3",
   "version": "3.10.8"
  }
 },
 "nbformat": 4,
 "nbformat_minor": 5
}
